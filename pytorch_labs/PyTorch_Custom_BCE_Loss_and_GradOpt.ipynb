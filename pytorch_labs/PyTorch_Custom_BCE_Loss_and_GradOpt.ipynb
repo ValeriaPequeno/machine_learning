{
  "nbformat": 4,
  "nbformat_minor": 0,
  "metadata": {
    "colab": {
      "name": "PyTorch_Custom_BCE_Loss_and_GradOpt",
      "provenance": [],
      "collapsed_sections": [],
      "authorship_tag": "ABX9TyMlzJiIALR+vgl4Tm+ZUBOo",
      "include_colab_link": true
    },
    "kernelspec": {
      "name": "python3",
      "display_name": "Python 3"
    },
    "accelerator": "GPU"
  },
  "cells": [
    {
      "cell_type": "markdown",
      "metadata": {
        "id": "view-in-github",
        "colab_type": "text"
      },
      "source": [
        "<a href=\"https://colab.research.google.com/github/fontanads/machine_learning/blob/master/pytorch_labs/PyTorch_Custom_BCE_Loss_and_GradOpt.ipynb\" target=\"_parent\"><img src=\"https://colab.research.google.com/assets/colab-badge.svg\" alt=\"Open In Colab\"/></a>"
      ]
    },
    {
      "cell_type": "markdown",
      "metadata": {
        "id": "yQxMu0HJD5V6",
        "colab_type": "text"
      },
      "source": [
        "# PyTorch Exercise: writing a custom loss function (BCE) and custom optimizer\n"
      ]
    },
    {
      "cell_type": "markdown",
      "metadata": {
        "id": "N3tHY9qXEVtb",
        "colab_type": "text"
      },
      "source": [
        "In this notebook, I create an artificial dataset aiming for binary classification of the datapoints.\n",
        "\n",
        "I implement Binary-Cross Entropy as a **custom loss function**. The custom loss function *inherits the backward-propagation* method from the main pytorch module.\n",
        "\n",
        "I also write a very simple **custom optimizer** to update the weights of the network, just to illustrate where to start from when you need to customize your update-rule equations.\n",
        "\n",
        "The dataset is in 2D for visualization purposes."
      ]
    },
    {
      "cell_type": "markdown",
      "metadata": {
        "id": "GOiyrHwQLXDi",
        "colab_type": "text"
      },
      "source": [
        "**REMARK**: the code is only prepared to run with CUDA (GPU processing support for pytorch). \n",
        "\n",
        "It was tested in Google Colab by setting the Runtime type to \"GPU\". \n",
        "\n",
        "In case you try to run in a CPU, remove the '.cuda()' calls where it is used. "
      ]
    },
    {
      "cell_type": "code",
      "metadata": {
        "id": "Pm5qPotooZc3",
        "colab_type": "code",
        "colab": {}
      },
      "source": [
        "import torch\n",
        "import torch.nn as nn\n",
        "from itertools import product"
      ],
      "execution_count": 0,
      "outputs": []
    },
    {
      "cell_type": "code",
      "metadata": {
        "id": "kuD18kXMogx3",
        "colab_type": "code",
        "colab": {}
      },
      "source": [
        "import numpy as np\n",
        "import matplotlib.pyplot as plt"
      ],
      "execution_count": 0,
      "outputs": []
    },
    {
      "cell_type": "code",
      "metadata": {
        "id": "A61aBZP4ADOW",
        "colab_type": "code",
        "colab": {}
      },
      "source": [
        "import time"
      ],
      "execution_count": 0,
      "outputs": []
    },
    {
      "cell_type": "code",
      "metadata": {
        "id": "JphBD5gsyFLO",
        "colab_type": "code",
        "colab": {}
      },
      "source": [
        "SEED = 42                             # random gen seed for numpy and torch\n",
        "use_custom_loss_and_opt = True        # set True if you want to use my custom functions or False for torch's loss and optimizer\n",
        "learning_rate = 1e-1                  # learning rate for parameter updates\n",
        "hidden_layer_sizes = [64, 32, 16]   # this is a list of the number of units in each Fully-Connected hidden layer, e.g. [16, 4, 2]\n",
        "max_epochs = 300                      # maximum number of iterations running over the training set\n",
        "train_size = 0.9                      # should be in the interval (0,1), it's the relative size of the training set\n",
        "M = 100000                             # this is the total number of data-points in the dataset\n",
        "print_status_iters = 10               # print loss val. every 'print_status_iters' iterations during training\n",
        "xlim, ylim = (10,10)                  # grid limits -xlim to xlim in the x-axis and -ylim to ylim in the y-axis\n",
        "normalize_X = True                    # a flag to normalize ANN's input data if set True"
      ],
      "execution_count": 0,
      "outputs": []
    },
    {
      "cell_type": "markdown",
      "metadata": {
        "id": "_BLyvcixHTSP",
        "colab_type": "text"
      },
      "source": [
        "Next cell is a function to implement data points in the 2D plane.\n",
        "\n",
        "Data-points $(x,y)$ satisfying the inequality\n",
        "\n",
        "$\\left[ \\dfrac{(x-x_0+n_x)\\cos\\theta+(y-y_0+n_y)\\sin\\theta}{a^2}\\right]^2 +\\left[ \\dfrac{(x-x_0+n_x)\\sin\\theta-(y-y_0+n_y)\\cos\\theta}{b^2}\\right]^2 -r^2 \\leq 0$ \n",
        "\n",
        "belong to the inside of the ellipse and will be labeled $1$. If the data point does not satisfy the inequality, it gets label $0$. \n",
        "\n",
        "Note that the values $n_x$ and $n_y$ are noise following Gaussian distribution $\\cal{N}(0,\\sigma^2)$."
      ]
    },
    {
      "cell_type": "code",
      "metadata": {
        "id": "l0pIOojMot25",
        "colab_type": "code",
        "colab": {}
      },
      "source": [
        "def elliptical_dataset_gen_func(tuples_xy):\n",
        "  r = max([xlim,ylim])/2     # radius if circle\n",
        "  a,b = (2,.8)               # scaling factors of x and y, respectively  (increasing it causes x and y to shrink)\n",
        "  x0, y0= (-1, 1)            # ellipse center \n",
        "  sigma2 = 5e-1              # perturbation variance ('strength') that may cause a data-point to deviate from its intended (x,y) location \n",
        "  theta = 45*(np.pi/180)     # ellipse rotation angle with respect to the horizontal axis\n",
        "  \n",
        "  def noise_sample():\n",
        "    return np.sqrt(sigma2)*np.random.randn(1)\n",
        "\n",
        "  def offset(u,u0):\n",
        "    return (u -u0 + noise_sample())\n",
        "  \n",
        "  def factor(w,u,theta,s):\n",
        "    return (w*np.cos(theta) + u*np.sin(theta))**2/(s**2)\n",
        "  \n",
        "  def elipse(x,y):\n",
        "    w = offset(x,x0)\n",
        "    u = offset(y,y0)\n",
        "    return factor(w,u,theta,a) + factor(u,-w,theta,b) - r**2\n",
        "\n",
        "  dataset = [(x,y,1) if elipse(x,y) <= 0 else (x,y,0) for x,y in tuples_xy ]\n",
        "  return np.array(dataset)"
      ],
      "execution_count": 0,
      "outputs": []
    },
    {
      "cell_type": "markdown",
      "metadata": {
        "id": "6H21wC3XKTnn",
        "colab_type": "text"
      },
      "source": [
        "Next, we fill the 2D grid with the cartesian product of linearly spaced x and y vectors. \n",
        "\n",
        "The $(x,y)$ tuples are input to the datset generation, that outputs a list of tuples $(x,y,\\text{label})$.\n",
        "\n",
        "The figure shows the data of class $0$ (outside the ellipse) in blue while points of class $1$ (inside the ellipse) are in red."
      ]
    },
    {
      "cell_type": "code",
      "metadata": {
        "id": "F6fjuj9MA4bY",
        "colab_type": "code",
        "outputId": "2803f727-6264-4aa4-8f06-6270fe5fa54a",
        "colab": {
          "base_uri": "https://localhost:8080/",
          "height": 392
        }
      },
      "source": [
        "M_int = int(np.sqrt(M))\n",
        "np.random.seed(SEED)\n",
        "x = np.linspace(-xlim,xlim,M_int)\n",
        "y = np.linspace(-ylim,ylim,M_int)\n",
        "cartesian_xy = product(x,y)\n",
        "dataset = elliptical_dataset_gen_func(cartesian_xy)\n",
        "\n",
        "plt.figure(figsize=(6,6))\n",
        "plt.scatter(dataset[dataset[:,2]==0,0],dataset[dataset[:,2]==0,1],color='b')\n",
        "plt.scatter(dataset[dataset[:,2]==1,0],dataset[dataset[:,2]==1,1],color='r')"
      ],
      "execution_count": 6,
      "outputs": [
        {
          "output_type": "execute_result",
          "data": {
            "text/plain": [
              "<matplotlib.collections.PathCollection at 0x7f2f3c83aba8>"
            ]
          },
          "metadata": {
            "tags": []
          },
          "execution_count": 6
        },
        {
          "output_type": "display_data",
          "data": {
            "image/png": "[encoded data removed]",
            "text/plain": [
              "<Figure size 432x432 with 1 Axes>"
            ]
          },
          "metadata": {
            "tags": [],
            "needs_background": "light"
          }
        }
      ]
    },
    {
      "cell_type": "code",
      "metadata": {
        "id": "ZTWHYpGzAaEF",
        "colab_type": "code",
        "outputId": "b5b53c1f-726b-4a5f-9f97-4c5f51a53167",
        "colab": {
          "base_uri": "https://localhost:8080/",
          "height": 35
        }
      },
      "source": [
        "dataset = torch.FloatTensor(dataset).cuda() # convert dataset to FloatTensor matrix (an then for CUDA)\n",
        "dataset.shape"
      ],
      "execution_count": 7,
      "outputs": [
        {
          "output_type": "execute_result",
          "data": {
            "text/plain": [
              "torch.Size([99856, 3])"
            ]
          },
          "metadata": {
            "tags": []
          },
          "execution_count": 7
        }
      ]
    },
    {
      "cell_type": "markdown",
      "metadata": {
        "id": "vi_8_qphMKP7",
        "colab_type": "text"
      },
      "source": [
        "Next is the design of the custom Artificial Neural Network (ANN) Model.\n",
        "\n",
        "It is created using a class, so that it inherits properties of torch's \"`nn.Module`\" class.\n",
        "\n",
        "In the initialization, the inputs are used to build the standard hidden layers. In this example, I fixed each hidden layer  to be\n",
        "\n",
        ">  $\\mathbf{h}=\\mathbf{W}^T\\mathbf{x}$ (*FC layer*) $\\to$ $\\mathbf{a}^\\prime =$ReLU$\\left(\\mathbf{h}\\right)$ $\\to$ $\\mathbf{a}$=BatchNorm$(\\mathbf{a})$\n",
        "\n",
        "and the final layer is just a wrap-up \n",
        "> ${h}=\\mathbf{w}^T\\mathbf{x}$ (*FC layer*) $\\to$ $\\hat{y}=\\sigma({h})$ (*Sigmoid activation*)\n",
        "\n",
        "so that the output is a scalar between $0$ and $1$.\n"
      ]
    },
    {
      "cell_type": "code",
      "metadata": {
        "id": "p_VaKn79pbwQ",
        "colab_type": "code",
        "colab": {}
      },
      "source": [
        "class MyModel(nn.Module):\n",
        "  def __init__(self, n_features, n_classes, layer_sizes):\n",
        "    super().__init__()\n",
        "    layers_list = []\n",
        "    n_in = n_features\n",
        "    for n_out in layer_sizes:\n",
        "      layers_list.append(nn.Linear(n_in, n_out)) # FC layer\n",
        "      layers_list.append(nn.ReLU(inplace=True))  # ReLU activation function\n",
        "      layers_list.append(nn.BatchNorm1d(n_out))  # Batch Normalization\n",
        "      n_in = n_out\n",
        "    # layers_list.append(nn.Linear(layer_sizes[-1], n_classes)) # final layer for CrossEntropy\n",
        "    layers_list.append(nn.Linear(layer_sizes[-1], 1))           # final layer for BCE\n",
        "    layers_list.append(nn.Sigmoid())          # final activation function\n",
        "    self.layers = nn.Sequential(*layers_list) # network object  \n",
        "  def forward(self,x):\n",
        "    x = self.layers(x)\n",
        "    return x"
      ],
      "execution_count": 0,
      "outputs": []
    },
    {
      "cell_type": "markdown",
      "metadata": {
        "id": "HUL2sWkbO4P7",
        "colab_type": "text"
      },
      "source": [
        "Next, the loss function is defined.\n",
        "\n",
        "It is important to observe that:\n",
        "- the function must be writen using torch's Tensor operations and related functions\n",
        "- the output must be a scalar (loss)\n",
        "\n",
        "In this example, I chose to write the simple Binary Cross-Entropy for the evaluation of a binary classification."
      ]
    },
    {
      "cell_type": "code",
      "metadata": {
        "id": "0-iGo9z7qfz4",
        "colab_type": "code",
        "colab": {}
      },
      "source": [
        "class MyBynaryCrossEntropyLoss(nn.Module):\n",
        "  def __init__(self):\n",
        "    super().__init__()\n",
        "\n",
        "  def forward(self,output,target):\n",
        "    vec_ce = -target*torch.log(output + 1e-10) - (1-target)*torch.log(1-output + 1e-10) \n",
        "    return torch.mean( vec_ce )"
      ],
      "execution_count": 0,
      "outputs": []
    },
    {
      "cell_type": "markdown",
      "metadata": {
        "id": "m5Mew2eqPaB4",
        "colab_type": "text"
      },
      "source": [
        "Finally, the custom optimizer is described below.\n",
        "\n",
        "It inherits from torch's `'optim.Optimizer'` class.\n",
        "\n",
        "Initialization requires a dictionary with fixed hyperparameters. In this example, I only use the learning rate. For other optimizer, other hyperparameters such as `'betas'`, `'eps'`,  `'weight_decay'`, `'amsgrad'` may also be initialized.\n",
        "\n",
        "The **`step()`** method is where the network's parameter-update equations will be customized. The dictionary **`group`** holds the key \"params\" for the network adjustable parameters (e.g., the hidden-layer weights). \n",
        "\n",
        "Each parameter in `group['params']` holds its own gradient computed after backpropagation. This gradient is used to update its values, using the learning rate and other hyperparametrs initialized in the defaults dictionary."
      ]
    },
    {
      "cell_type": "code",
      "metadata": {
        "id": "p82c-JAiqjXp",
        "colab_type": "code",
        "colab": {}
      },
      "source": [
        "class MyOptimizer(torch.optim.Optimizer):\n",
        "  def __init__(self, model_parameters, lr=1e-1):\n",
        "    self.lr = lr \n",
        "    self.params = model_parameters\n",
        "    defaults = {'lr':lr} # dictionary following structure group_name:param_values\n",
        "    super().__init__(model_parameters,defaults)\n",
        "\n",
        "  def step(self, closure=None):\n",
        "    for group in self.param_groups:\n",
        "      for p in group['params']:\n",
        "        if p.grad is None:\n",
        "          continue\n",
        "        d_p=p.grad\n",
        "        p.data.add_(-group['lr'], d_p) \n",
        "        # remark: I had trouble using the in-place operation in the leaf-variable p, \n",
        "        # so I modified to update the data of the tensor directly"
      ],
      "execution_count": 0,
      "outputs": []
    },
    {
      "cell_type": "markdown",
      "metadata": {
        "id": "vfy1heqMTaqv",
        "colab_type": "text"
      },
      "source": [
        "From here on, standard torch training and test procedures take place."
      ]
    },
    {
      "cell_type": "markdown",
      "metadata": {
        "id": "juvgQi8XThBs",
        "colab_type": "text"
      },
      "source": [
        "In the next cell, I use torch's `random_split` function to get generators for the train and test set.\n",
        "\n",
        "Since the dataset is not so large, I alredy extracted each subset into `(X_train, y_train)` and `(X_test, y_test)` variables.\n",
        "\n",
        "An optional normalization is also used for the input variables. But note that it depends only on the `train_set` to avoid *data leakage*."
      ]
    },
    {
      "cell_type": "code",
      "metadata": {
        "id": "0V_4IyLIArbt",
        "colab_type": "code",
        "colab": {}
      },
      "source": [
        "train_len = int(train_size*dataset.shape[0])\n",
        "test_len = dataset.shape[0]-train_len\n",
        "train_set, test_set = torch.utils.data.random_split(dataset, [train_len,test_len])\n",
        "\n",
        "X_train = train_set[:][:,:-1]\n",
        "\n",
        "norm_factor = torch.max(X_train.std(axis=0)) if normalize_X else 1 \n",
        "\n",
        "X_train = X_train/norm_factor\n",
        "y_train = train_set[:][:,-1]\n",
        "X_test  = test_set[:][:,:-1]/norm_factor\n",
        "y_test  = test_set[:][:,-1]"
      ],
      "execution_count": 0,
      "outputs": []
    },
    {
      "cell_type": "markdown",
      "metadata": {
        "id": "yu_C_wmnVE-Q",
        "colab_type": "text"
      },
      "source": [
        "Next, the custom Model is instantiated.\n",
        "\n",
        "Depending on what setting you have chosen, custom loss function and custom optimizer will be used. \n",
        "\n",
        "Otherwise, torch's `BCELoss()` and `SGD()` optimizer will be used."
      ]
    },
    {
      "cell_type": "code",
      "metadata": {
        "id": "7Wlu1CGm_XA9",
        "colab_type": "code",
        "colab": {}
      },
      "source": [
        "Model = MyModel(X_train.shape[1], 2, hidden_layer_sizes)\n",
        "Model.cuda()\n",
        "\n",
        "if not use_custom_loss_and_opt:\n",
        "  criterion = nn.BCELoss(   ) \n",
        "  optimizer = torch.optim.SGD(Model.parameters(), lr=learning_rate)\n",
        "else:\n",
        "  criterion = MyBynaryCrossEntropyLoss( )\n",
        "  optimizer = MyOptimizer(Model.parameters(), lr=learning_rate)"
      ],
      "execution_count": 0,
      "outputs": []
    },
    {
      "cell_type": "code",
      "metadata": {
        "id": "9JwWIY6g5k9B",
        "colab_type": "code",
        "outputId": "6cdba26e-5fcf-47ae-eef2-f894bfdb9957",
        "colab": {
          "base_uri": "https://localhost:8080/",
          "height": 417
        }
      },
      "source": [
        "print(f'Model {Model}',f'Criterion: {criterion}',f'Optimizer: {optimizer}',sep=2*'\\n')"
      ],
      "execution_count": 13,
      "outputs": [
        {
          "output_type": "stream",
          "text": [
            "Model MyModel(\n",
            "  (layers): Sequential(\n",
            "    (0): Linear(in_features=2, out_features=64, bias=True)\n",
            "    (1): ReLU(inplace=True)\n",
            "    (2): BatchNorm1d(64, eps=1e-05, momentum=0.1, affine=True, track_running_stats=True)\n",
            "    (3): Linear(in_features=64, out_features=32, bias=True)\n",
            "    (4): ReLU(inplace=True)\n",
            "    (5): BatchNorm1d(32, eps=1e-05, momentum=0.1, affine=True, track_running_stats=True)\n",
            "    (6): Linear(in_features=32, out_features=16, bias=True)\n",
            "    (7): ReLU(inplace=True)\n",
            "    (8): BatchNorm1d(16, eps=1e-05, momentum=0.1, affine=True, track_running_stats=True)\n",
            "    (9): Linear(in_features=16, out_features=1, bias=True)\n",
            "    (10): Sigmoid()\n",
            "  )\n",
            ")\n",
            "\n",
            "Criterion: MyBynaryCrossEntropyLoss()\n",
            "\n",
            "Optimizer: MyOptimizer (\n",
            "Parameter Group 0\n",
            "    lr: 0.1\n",
            ")\n"
          ],
          "name": "stdout"
        }
      ]
    },
    {
      "cell_type": "markdown",
      "metadata": {
        "id": "cIxcVCrTVgL_",
        "colab_type": "text"
      },
      "source": [
        "Here is the standard torch training loop."
      ]
    },
    {
      "cell_type": "code",
      "metadata": {
        "id": "TMLOUbD-BfRp",
        "colab_type": "code",
        "outputId": "0f1409a3-9492-4ae9-8b99-145042ba6176",
        "colab": {
          "base_uri": "https://localhost:8080/",
          "height": 580
        }
      },
      "source": [
        "torch.manual_seed(SEED)\n",
        "losses=[]\n",
        "start_time = time.time()\n",
        "for i in range(max_epochs):\n",
        "    y_pred = Model(X_train).reshape(train_len) # forward-prop in network\n",
        "    loss = criterion(y_pred,y_train )          # loss calculation\n",
        "    losses.append(loss)                        # save loss\n",
        "    optimizer.zero_grad()                      # reset gradients\n",
        "    loss.backward()                            # backprop\n",
        "    optimizer.step()                           # params update\n",
        "    \n",
        "    if i%print_status_iters==1: # print status\n",
        "        duration = time.time() - start_time \n",
        "        print(f'epoch {i} and loss is {loss:5.6f} (runtime: {duration:10.4f} sec)')\n",
        "        \n",
        "duration = time.time() - start_time \n",
        "print(f'train took {duration/60} min.')"
      ],
      "execution_count": 14,
      "outputs": [
        {
          "output_type": "stream",
          "text": [
            "epoch 1 and loss is 0.597012 (runtime:     0.0985 sec)\n",
            "epoch 11 and loss is 0.360658 (runtime:     0.7304 sec)\n",
            "epoch 21 and loss is 0.296269 (runtime:     2.9189 sec)\n",
            "epoch 31 and loss is 0.242322 (runtime:     5.1069 sec)\n",
            "epoch 41 and loss is 0.213815 (runtime:     7.2909 sec)\n",
            "epoch 51 and loss is 0.196339 (runtime:     9.4804 sec)\n",
            "epoch 61 and loss is 0.184507 (runtime:    11.6630 sec)\n",
            "epoch 71 and loss is 0.177124 (runtime:    13.8533 sec)\n",
            "epoch 81 and loss is 0.171431 (runtime:    16.0328 sec)\n",
            "epoch 91 and loss is 0.167692 (runtime:    18.2238 sec)\n",
            "epoch 101 and loss is 0.165078 (runtime:    20.4074 sec)\n",
            "epoch 111 and loss is 0.162730 (runtime:    22.5978 sec)\n",
            "epoch 121 and loss is 0.161025 (runtime:    24.7862 sec)\n",
            "epoch 131 and loss is 0.159737 (runtime:    26.9777 sec)\n",
            "epoch 141 and loss is 0.158606 (runtime:    29.1623 sec)\n",
            "epoch 151 and loss is 0.157753 (runtime:    31.3469 sec)\n",
            "epoch 161 and loss is 0.156602 (runtime:    33.5303 sec)\n",
            "epoch 171 and loss is 0.155988 (runtime:    35.7206 sec)\n",
            "epoch 181 and loss is 0.155445 (runtime:    37.9012 sec)\n",
            "epoch 191 and loss is 0.154798 (runtime:    40.0883 sec)\n",
            "epoch 201 and loss is 0.154184 (runtime:    42.2677 sec)\n",
            "epoch 211 and loss is 0.153924 (runtime:    44.4565 sec)\n",
            "epoch 221 and loss is 0.153623 (runtime:    46.6425 sec)\n",
            "epoch 231 and loss is 0.153330 (runtime:    48.8334 sec)\n",
            "epoch 241 and loss is 0.152978 (runtime:    51.0108 sec)\n",
            "epoch 251 and loss is 0.152881 (runtime:    53.1970 sec)\n",
            "epoch 261 and loss is 0.152624 (runtime:    55.3858 sec)\n",
            "epoch 271 and loss is 0.152307 (runtime:    57.5750 sec)\n",
            "epoch 281 and loss is 0.152179 (runtime:    59.7598 sec)\n",
            "epoch 291 and loss is 0.152050 (runtime:    61.9490 sec)\n",
            "train took 1.0665902098019917 min.\n"
          ],
          "name": "stdout"
        }
      ]
    },
    {
      "cell_type": "code",
      "metadata": {
        "id": "rZtGnSmHTxmL",
        "colab_type": "code",
        "outputId": "8d77e67d-0d1c-4bc0-d2e1-a3122447abd3",
        "colab": {
          "base_uri": "https://localhost:8080/",
          "height": 53
        }
      },
      "source": [
        "y_pred"
      ],
      "execution_count": 15,
      "outputs": [
        {
          "output_type": "execute_result",
          "data": {
            "text/plain": [
              "tensor([0.5220, 0.0027, 0.9896,  ..., 0.0036, 0.0066, 0.9007], device='cuda:0',\n",
              "       grad_fn=<ViewBackward>)"
            ]
          },
          "metadata": {
            "tags": []
          },
          "execution_count": 15
        }
      ]
    },
    {
      "cell_type": "markdown",
      "metadata": {
        "id": "DtExkyanVqsU",
        "colab_type": "text"
      },
      "source": [
        "Plot of the loss function during training (y-axis in `log` scale)."
      ]
    },
    {
      "cell_type": "code",
      "metadata": {
        "id": "iZz53A_EC-En",
        "colab_type": "code",
        "outputId": "763260e4-104b-47c0-a6a7-152c79b5aeeb",
        "colab": {
          "base_uri": "https://localhost:8080/",
          "height": 285
        }
      },
      "source": [
        "plt.plot(range(max_epochs), losses)\n",
        "plt.xlabel('epochs')\n",
        "plt.ylabel('LOSS')\n",
        "plt.yscale('log')\n",
        "plt.ylim([1e-3,1e0])\n",
        "plt.grid()\n",
        "plt.show()"
      ],
      "execution_count": 16,
      "outputs": [
        {
          "output_type": "display_data",
          "data": {
            "image/png": "[encoded data removed]",
            "text/plain": [
              "<Figure size 432x288 with 1 Axes>"
            ]
          },
          "metadata": {
            "tags": [],
            "needs_background": "light"
          }
        }
      ]
    },
    {
      "cell_type": "markdown",
      "metadata": {
        "id": "t6oAz7qZVzqn",
        "colab_type": "text"
      },
      "source": [
        "Here, predictions are made with the test set."
      ]
    },
    {
      "cell_type": "code",
      "metadata": {
        "id": "L3hW2aWLHuqd",
        "colab_type": "code",
        "outputId": "0136e74b-9016-485c-b496-b67209905df5",
        "colab": {
          "base_uri": "https://localhost:8080/",
          "height": 35
        }
      },
      "source": [
        "with torch.no_grad():\n",
        "    y_val = Model(X_test).reshape(test_len)\n",
        "    loss  = criterion(y_val, y_test)\n",
        "loss"
      ],
      "execution_count": 17,
      "outputs": [
        {
          "output_type": "execute_result",
          "data": {
            "text/plain": [
              "tensor(0.1482, device='cuda:0')"
            ]
          },
          "metadata": {
            "tags": []
          },
          "execution_count": 17
        }
      ]
    },
    {
      "cell_type": "markdown",
      "metadata": {
        "id": "qxBk_7XPV6ja",
        "colab_type": "text"
      },
      "source": [
        "Then we plot the true values vs. the predictions. \n",
        "\n",
        "Note that the Sigmoid's output is a soft-value between $0$ and $1$.\n",
        "\n",
        "We can make a hard decision by rouding then or we can plot the confidence using a color gradient. "
      ]
    },
    {
      "cell_type": "code",
      "metadata": {
        "id": "jo_7w_w54cdm",
        "colab_type": "code",
        "colab": {}
      },
      "source": [
        "#y_pred = torch.argmax(y_val, axis=1).cpu().numpy() # cross-entropy output needs 2 classes\n",
        "y_pred_hard = y_val.round().cpu().numpy()\n",
        "y_pred_soft = y_val.cpu().numpy().round(decimals=1)"
      ],
      "execution_count": 0,
      "outputs": []
    },
    {
      "cell_type": "code",
      "metadata": {
        "id": "a6NlEpNma_nO",
        "colab_type": "code",
        "colab": {
          "base_uri": "https://localhost:8080/",
          "height": 297
        },
        "outputId": "9e0fea7c-94b9-4124-b8c2-eaff759c511a"
      },
      "source": [
        "plt.hist(y_pred_soft) # just a histogram to quick view the distribution of soft prediction-values\n",
        "plt.ylabel('count')\n",
        "plt.xlabel('sigmoid output')"
      ],
      "execution_count": 19,
      "outputs": [
        {
          "output_type": "execute_result",
          "data": {
            "text/plain": [
              "Text(0.5, 0, 'sigmoid output')"
            ]
          },
          "metadata": {
            "tags": []
          },
          "execution_count": 19
        },
        {
          "output_type": "display_data",
          "data": {
            "image/png": "[encoded data removed]",
            "text/plain": [
              "<Figure size 432x288 with 1 Axes>"
            ]
          },
          "metadata": {
            "tags": [],
            "needs_background": "light"
          }
        }
      ]
    },
    {
      "cell_type": "code",
      "metadata": {
        "id": "IHUGMfXOKimW",
        "colab_type": "code",
        "outputId": "e398615a-6065-4a78-9658-177f0beb8038",
        "colab": {
          "base_uri": "https://localhost:8080/",
          "height": 782
        }
      },
      "source": [
        "import matplotlib.gridspec as gridspec\n",
        "gs = gridspec.GridSpec(2, 2) # Create 2x2 sub plots\n",
        "\n",
        "plt.figure(figsize=(12, 9), dpi=100, facecolor='w', edgecolor='k')\n",
        "\n",
        "plt.subplot(gs[0, 0])\n",
        "plt.scatter(X_test.cpu()[y_test==0,0],X_test.cpu()[y_test==0,1],color='b')\n",
        "plt.scatter(X_test.cpu()[y_test==1,0],X_test.cpu()[y_test==1,1],color='r')\n",
        "plt.xlabel('x'), plt.ylabel('y')\n",
        "plt.title('True Classes')\n",
        "\n",
        "plt.subplot(gs[0, 1])\n",
        "plt.scatter(X_test.cpu()[y_pred_hard==0,0],X_test.cpu()[y_pred_hard==0,1],color='b')\n",
        "plt.scatter(X_test.cpu()[y_pred_hard==1,0],X_test.cpu()[y_pred_hard==1,1],color='r')\n",
        "plt.xlabel('x'), plt.ylabel('y')\n",
        "plt.title('Classification Model Hard-Predictions')\n",
        "\n",
        "plt.subplot(gs[1, 1])\n",
        "plt.scatter(X_test.cpu()[y_pred_hard==0,0],X_test.cpu()[y_pred_hard==0,1],color='b')\n",
        "for i in range(len(y_pred_soft)):\n",
        "  plt.scatter(X_test.cpu()[i,0],X_test.cpu()[i,1],color=(y_pred_soft[i],0,1-y_pred_soft[i]))\n",
        "plt.xlabel('x'), plt.ylabel('y')\n",
        "plt.title('Classification Model Soft-Predictions')\n",
        "\n",
        "plt.show()"
      ],
      "execution_count": 20,
      "outputs": [
        {
          "output_type": "display_data",
          "data": {
            "image/png": "[encoded data removed]",
            "text/plain": [
              "<Figure size 1200x900 with 3 Axes>"
            ]
          },
          "metadata": {
            "tags": []
          }
        }
      ]
    },
    {
      "cell_type": "markdown",
      "metadata": {
        "id": "c9mo0hrsXBaf",
        "colab_type": "text"
      },
      "source": [
        "Here we evaluate the classification metric.\n",
        "\n",
        "First, a confusion matrix is shown."
      ]
    },
    {
      "cell_type": "code",
      "metadata": {
        "id": "r4GCbdZ_LO_l",
        "colab_type": "code",
        "colab": {}
      },
      "source": [
        "from sklearn.metrics import confusion_matrix, classification_report"
      ],
      "execution_count": 0,
      "outputs": []
    },
    {
      "cell_type": "code",
      "metadata": {
        "id": "CBrxfz05PiCW",
        "colab_type": "code",
        "colab": {}
      },
      "source": [
        "y_true = y_test.cpu().numpy()"
      ],
      "execution_count": 0,
      "outputs": []
    },
    {
      "cell_type": "markdown",
      "metadata": {
        "id": "sGkq0dQLXLTf",
        "colab_type": "text"
      },
      "source": [
        "In each row of the confusion matrix, we see absolute number of hits and errors.\n",
        "\n",
        "Note that in row $0$, the first item is the number of hits, \n",
        "\n",
        "while in row $1$, the second item is the number of hits."
      ]
    },
    {
      "cell_type": "code",
      "metadata": {
        "id": "UXrF44RrOleX",
        "colab_type": "code",
        "outputId": "3199fb3b-6117-423e-8fbb-921cc2fd060e",
        "colab": {
          "base_uri": "https://localhost:8080/",
          "height": 53
        }
      },
      "source": [
        "confusion_matrix(y_true, y_pred_hard)"
      ],
      "execution_count": 23,
      "outputs": [
        {
          "output_type": "execute_result",
          "data": {
            "text/plain": [
              "array([[6548,  314],\n",
              "       [ 326, 2798]])"
            ]
          },
          "metadata": {
            "tags": []
          },
          "execution_count": 23
        }
      ]
    },
    {
      "cell_type": "markdown",
      "metadata": {
        "id": "zlSY-78MXjPd",
        "colab_type": "text"
      },
      "source": [
        "Instead of absolute number of erros, we can view the confusion matrix with the percentage of hits and errors for each class."
      ]
    },
    {
      "cell_type": "code",
      "metadata": {
        "id": "UhWvaASsNZT4",
        "colab_type": "code",
        "outputId": "5cfb0549-c3f4-489d-90bf-f52a36708ec1",
        "colab": {
          "base_uri": "https://localhost:8080/",
          "height": 53
        }
      },
      "source": [
        "np.around(100*confusion_matrix(y_true, y_pred_hard, normalize='true'),decimals=2) # row (label) normalized"
      ],
      "execution_count": 24,
      "outputs": [
        {
          "output_type": "execute_result",
          "data": {
            "text/plain": [
              "array([[95.42,  4.58],\n",
              "       [10.44, 89.56]])"
            ]
          },
          "metadata": {
            "tags": []
          },
          "execution_count": 24
        }
      ]
    },
    {
      "cell_type": "markdown",
      "metadata": {
        "id": "s_sjD941Xrwq",
        "colab_type": "text"
      },
      "source": [
        "Other classification metrics are reported with the following `sklearn` function."
      ]
    },
    {
      "cell_type": "code",
      "metadata": {
        "id": "cQyySboMPes2",
        "colab_type": "code",
        "outputId": "af1f6ee3-cf2a-42fc-eb97-e36b0d7e9511",
        "colab": {
          "base_uri": "https://localhost:8080/",
          "height": 181
        }
      },
      "source": [
        "print(\n",
        "    classification_report(y_true, y_pred_hard, target_names=['0','1'])\n",
        ")"
      ],
      "execution_count": 25,
      "outputs": [
        {
          "output_type": "stream",
          "text": [
            "              precision    recall  f1-score   support\n",
            "\n",
            "           0       0.95      0.95      0.95      6862\n",
            "           1       0.90      0.90      0.90      3124\n",
            "\n",
            "    accuracy                           0.94      9986\n",
            "   macro avg       0.93      0.92      0.93      9986\n",
            "weighted avg       0.94      0.94      0.94      9986\n",
            "\n"
          ],
          "name": "stdout"
        }
      ]
    },
    {
      "cell_type": "markdown",
      "metadata": {
        "id": "PydPM0eDX0_B",
        "colab_type": "text"
      },
      "source": [
        "At last, some examples of predicted  vs. True classification values."
      ]
    },
    {
      "cell_type": "code",
      "metadata": {
        "id": "pjn8GOrIIL9-",
        "colab_type": "code",
        "outputId": "8d204e08-912b-4542-ac59-5c77c69f7602",
        "colab": {
          "base_uri": "https://localhost:8080/",
          "height": 380
        }
      },
      "source": [
        "for i in np.random.randint(low=0, high=test_len, size=10):\n",
        "    pred_val  = y_pred_hard[i] # torch.argmax(y_val[i])\n",
        "    soft_val  = y_pred_soft[i]\n",
        "    true_val  = y_test[i].long()\n",
        "    print(f'PREDICTED (HARD/SOFT): {int(pred_val)}/{soft_val:.2f} TRUE: {true_val}  | Input.: {i}) \\n')"
      ],
      "execution_count": 26,
      "outputs": [
        {
          "output_type": "stream",
          "text": [
            "PREDICTED (HARD/SOFT): 1/0.80 TRUE: 0  | Input.: 7575) \n",
            "\n",
            "PREDICTED (HARD/SOFT): 1/1.00 TRUE: 1  | Input.: 246) \n",
            "\n",
            "PREDICTED (HARD/SOFT): 1/0.60 TRUE: 1  | Input.: 1669) \n",
            "\n",
            "PREDICTED (HARD/SOFT): 0/0.00 TRUE: 0  | Input.: 4859) \n",
            "\n",
            "PREDICTED (HARD/SOFT): 0/0.00 TRUE: 0  | Input.: 4787) \n",
            "\n",
            "PREDICTED (HARD/SOFT): 0/0.00 TRUE: 0  | Input.: 3537) \n",
            "\n",
            "PREDICTED (HARD/SOFT): 0/0.20 TRUE: 0  | Input.: 3019) \n",
            "\n",
            "PREDICTED (HARD/SOFT): 0/0.00 TRUE: 0  | Input.: 5570) \n",
            "\n",
            "PREDICTED (HARD/SOFT): 1/1.00 TRUE: 1  | Input.: 963) \n",
            "\n",
            "PREDICTED (HARD/SOFT): 1/1.00 TRUE: 1  | Input.: 2756) \n",
            "\n"
          ],
          "name": "stdout"
        }
      ]
    }
  ]
}